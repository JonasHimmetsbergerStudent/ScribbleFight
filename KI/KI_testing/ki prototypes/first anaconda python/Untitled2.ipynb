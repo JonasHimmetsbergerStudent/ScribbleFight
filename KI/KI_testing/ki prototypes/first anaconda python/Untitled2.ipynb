{
 "cells": [
  {
   "cell_type": "code",
   "execution_count": 2,
   "id": "3b7f4f14",
   "metadata": {},
   "outputs": [],
   "source": [
    "import gym\n",
    "from gym import Env\n",
    "from gym.spaces import Discrete, Box, Dict, Tuple, MultiBinary, MultiDiscrete\n",
    "from gym.utils import seeding, EzPickle\n",
    "\n",
    "import numpy as np\n",
    "import random\n",
    "import os\n",
    "\n",
    "from stable_baselines3 import PPO\n",
    "from stable_baselines3.common.vec_env import DummyVecEnv\n",
    "from stable_baselines3.common.evaluation import evaluate_policy"
   ]
  },
  {
   "cell_type": "code",
   "execution_count": 3,
   "id": "c324989a",
   "metadata": {},
   "outputs": [
    {
     "data": {
      "text/plain": [
       "array([[[ 1],\n",
       "        [ 3],\n",
       "        [ 5],\n",
       "        ...,\n",
       "        [ 0],\n",
       "        [ 2],\n",
       "        [ 8]],\n",
       "\n",
       "       [[ 4],\n",
       "        [ 4],\n",
       "        [ 6],\n",
       "        ...,\n",
       "        [ 4],\n",
       "        [ 3],\n",
       "        [ 1]],\n",
       "\n",
       "       [[ 0],\n",
       "        [ 3],\n",
       "        [ 0],\n",
       "        ...,\n",
       "        [ 2],\n",
       "        [ 4],\n",
       "        [ 6]],\n",
       "\n",
       "       ...,\n",
       "\n",
       "       [[ 0],\n",
       "        [ 1],\n",
       "        [ 3],\n",
       "        ...,\n",
       "        [ 8],\n",
       "        [ 2],\n",
       "        [ 8]],\n",
       "\n",
       "       [[ 8],\n",
       "        [ 4],\n",
       "        [ 5],\n",
       "        ...,\n",
       "        [ 1],\n",
       "        [ 5],\n",
       "        [ 6]],\n",
       "\n",
       "       [[ 0],\n",
       "        [10],\n",
       "        [ 0],\n",
       "        ...,\n",
       "        [ 1],\n",
       "        [ 9],\n",
       "        [ 5]]])"
      ]
     },
     "execution_count": 3,
     "metadata": {},
     "output_type": "execute_result"
    }
   ],
   "source": [
    "Box(0, 10, (165, 165, 1), int).sample()"
   ]
  },
  {
   "cell_type": "code",
   "execution_count": null,
   "id": "d1d5eb98",
   "metadata": {},
   "outputs": [],
   "source": []
  }
 ],
 "metadata": {
  "kernelspec": {
   "display_name": "Python 3",
   "language": "python",
   "name": "python3"
  },
  "language_info": {
   "codemirror_mode": {
    "name": "ipython",
    "version": 3
   },
   "file_extension": ".py",
   "mimetype": "text/x-python",
   "name": "python",
   "nbconvert_exporter": "python",
   "pygments_lexer": "ipython3",
   "version": "3.8.8"
  }
 },
 "nbformat": 4,
 "nbformat_minor": 5
}
