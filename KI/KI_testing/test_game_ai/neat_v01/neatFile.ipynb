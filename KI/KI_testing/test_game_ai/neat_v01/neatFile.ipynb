{
 "cells": [
  {
   "cell_type": "code",
   "execution_count": null,
   "id": "814f45e0",
   "metadata": {},
   "outputs": [],
   "source": [
    "import multiprocessing\n",
    "import os\n",
    "import pickle\n",
    "\n",
    "import neat\n",
    "import numpy as np\n",
    "import gym\n",
    "\n",
    "runs_per_net = 2\n",
    "# simulation_seconds = 60.0\n",
    "\n",
    "\n",
    "# Use the NN network phenotype and the discrete actuator force function.\n",
    "def eval_genome(genome, config):\n",
    "    net = neat.nn.FeedForwardNetwork.create(genome, config)\n",
    "\n",
    "    fitnesses = []\n",
    "\n",
    "    for runs in range(runs_per_net):\n",
    "        env = gym.make(\"MountainCar-v0\")\n",
    "        observation = env.reset()\n",
    "\n",
    "        # Run the given simulation for up to num_steps time steps.\n",
    "        fitness = 0.0\n",
    "        done = False\n",
    "        while not done:\n",
    "            action = np.argmax(net.activate(observation))\n",
    "            # action = net.activate(observation)\n",
    "            observation, reward, done, _ = env.step(action=action)\n",
    "            fitness += reward\n",
    "            \n",
    "        fitnesses.append(fitness)\n",
    "\n",
    "    # The genome's fitness is its worst performance across all runs.\n",
    "    return np.mean(fitnesses)\n",
    "\n",
    "\n",
    "def eval_genomes(genomes, config):\n",
    "    for genome_id, genome in genomes:\n",
    "        genome.fitness = eval_genome(genome, config)\n",
    "\n",
    "\n",
    "def run():\n",
    "    # Load the config file, which is assumed to live in\n",
    "    # the same directory as this script.\n",
    "    # local_dir = os.path.dirname(__file__)\n",
    "    # config_path = os.path.join(local_dir, 'config')\n",
    "    config_path = os.path.join('config', )\n",
    "    config = neat.Config(neat.DefaultGenome, neat.DefaultReproduction,\n",
    "                         neat.DefaultSpeciesSet, neat.DefaultStagnation,\n",
    "                         config_path)\n",
    "\n",
    "    pop = neat.Population(config)\n",
    "    stats = neat.StatisticsReporter()\n",
    "    pop.add_reporter(stats)\n",
    "    pop.add_reporter(neat.StdOutReporter(True))\n",
    "\n",
    "    pe = neat.ParallelEvaluator(multiprocessing.cpu_count(), eval_genome)\n",
    "    winner = pop.run(pe.evaluate)\n",
    "\n",
    "    # Save the winner.\n",
    "    with open('winner', 'wb') as f:\n",
    "        pickle.dump(winner, f)\n",
    "\n",
    "    print(winner)\n"
   ]
  },
  {
   "cell_type": "code",
   "execution_count": 2,
   "id": "d447e1b4",
   "metadata": {},
   "outputs": [],
   "source": [
    "\n"
   ]
  },
  {
   "cell_type": "code",
   "execution_count": null,
   "id": "47d6eeca",
   "metadata": {},
   "outputs": [],
   "source": []
  }
 ],
 "metadata": {
  "kernelspec": {
   "display_name": "Python 3",
   "language": "python",
   "name": "python3"
  },
  "language_info": {
   "codemirror_mode": {
    "name": "ipython",
    "version": 3
   },
   "file_extension": ".py",
   "mimetype": "text/x-python",
   "name": "python",
   "nbconvert_exporter": "python",
   "pygments_lexer": "ipython3",
   "version": "3.8.8"
  }
 },
 "nbformat": 4,
 "nbformat_minor": 5
}
